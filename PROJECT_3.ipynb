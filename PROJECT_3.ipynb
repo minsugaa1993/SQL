{
  "nbformat": 4,
  "nbformat_minor": 0,
  "metadata": {
    "colab": {
      "provenance": [],
      "authorship_tag": "ABX9TyOANt/DbpRrQTIrVRPAypvG",
      "include_colab_link": true
    },
    "kernelspec": {
      "name": "python3",
      "display_name": "Python 3"
    },
    "language_info": {
      "name": "python"
    }
  },
  "cells": [
    {
      "cell_type": "markdown",
      "metadata": {
        "id": "view-in-github",
        "colab_type": "text"
      },
      "source": [
        "<a href=\"https://colab.research.google.com/github/minsugaa1993/SQL/blob/main/PROJECT_3.ipynb\" target=\"_parent\"><img src=\"https://colab.research.google.com/assets/colab-badge.svg\" alt=\"Open In Colab\"/></a>"
      ]
    },
    {
      "cell_type": "code",
      "execution_count": 18,
      "metadata": {
        "id": "WSLIFcmMXX-z"
      },
      "outputs": [],
      "source": [
        "import pandas as pd\n",
        "import sqlite3\n",
        "from google.colab import files"
      ]
    },
    {
      "cell_type": "markdown",
      "source": [
        "# 1. Upload dataset manual"
      ],
      "metadata": {
        "id": "FMGpd_0iXva5"
      }
    },
    {
      "cell_type": "code",
      "source": [
        "uploaded = files.upload()\n",
        "file_path = list(uploaded.keys())[0]  # Get the uploaded file name\n"
      ],
      "metadata": {
        "colab": {
          "base_uri": "https://localhost:8080/",
          "height": 73
        },
        "id": "KXsUiqoKXmZv",
        "outputId": "dbff6ef6-53ca-470d-ae65-2f94138bc142"
      },
      "execution_count": 2,
      "outputs": [
        {
          "output_type": "display_data",
          "data": {
            "text/plain": [
              "<IPython.core.display.HTML object>"
            ],
            "text/html": [
              "\n",
              "     <input type=\"file\" id=\"files-bc7f9054-eea0-43a8-b603-e7596ec85d83\" name=\"files[]\" multiple disabled\n",
              "        style=\"border:none\" />\n",
              "     <output id=\"result-bc7f9054-eea0-43a8-b603-e7596ec85d83\">\n",
              "      Upload widget is only available when the cell has been executed in the\n",
              "      current browser session. Please rerun this cell to enable.\n",
              "      </output>\n",
              "      <script>// Copyright 2017 Google LLC\n",
              "//\n",
              "// Licensed under the Apache License, Version 2.0 (the \"License\");\n",
              "// you may not use this file except in compliance with the License.\n",
              "// You may obtain a copy of the License at\n",
              "//\n",
              "//      http://www.apache.org/licenses/LICENSE-2.0\n",
              "//\n",
              "// Unless required by applicable law or agreed to in writing, software\n",
              "// distributed under the License is distributed on an \"AS IS\" BASIS,\n",
              "// WITHOUT WARRANTIES OR CONDITIONS OF ANY KIND, either express or implied.\n",
              "// See the License for the specific language governing permissions and\n",
              "// limitations under the License.\n",
              "\n",
              "/**\n",
              " * @fileoverview Helpers for google.colab Python module.\n",
              " */\n",
              "(function(scope) {\n",
              "function span(text, styleAttributes = {}) {\n",
              "  const element = document.createElement('span');\n",
              "  element.textContent = text;\n",
              "  for (const key of Object.keys(styleAttributes)) {\n",
              "    element.style[key] = styleAttributes[key];\n",
              "  }\n",
              "  return element;\n",
              "}\n",
              "\n",
              "// Max number of bytes which will be uploaded at a time.\n",
              "const MAX_PAYLOAD_SIZE = 100 * 1024;\n",
              "\n",
              "function _uploadFiles(inputId, outputId) {\n",
              "  const steps = uploadFilesStep(inputId, outputId);\n",
              "  const outputElement = document.getElementById(outputId);\n",
              "  // Cache steps on the outputElement to make it available for the next call\n",
              "  // to uploadFilesContinue from Python.\n",
              "  outputElement.steps = steps;\n",
              "\n",
              "  return _uploadFilesContinue(outputId);\n",
              "}\n",
              "\n",
              "// This is roughly an async generator (not supported in the browser yet),\n",
              "// where there are multiple asynchronous steps and the Python side is going\n",
              "// to poll for completion of each step.\n",
              "// This uses a Promise to block the python side on completion of each step,\n",
              "// then passes the result of the previous step as the input to the next step.\n",
              "function _uploadFilesContinue(outputId) {\n",
              "  const outputElement = document.getElementById(outputId);\n",
              "  const steps = outputElement.steps;\n",
              "\n",
              "  const next = steps.next(outputElement.lastPromiseValue);\n",
              "  return Promise.resolve(next.value.promise).then((value) => {\n",
              "    // Cache the last promise value to make it available to the next\n",
              "    // step of the generator.\n",
              "    outputElement.lastPromiseValue = value;\n",
              "    return next.value.response;\n",
              "  });\n",
              "}\n",
              "\n",
              "/**\n",
              " * Generator function which is called between each async step of the upload\n",
              " * process.\n",
              " * @param {string} inputId Element ID of the input file picker element.\n",
              " * @param {string} outputId Element ID of the output display.\n",
              " * @return {!Iterable<!Object>} Iterable of next steps.\n",
              " */\n",
              "function* uploadFilesStep(inputId, outputId) {\n",
              "  const inputElement = document.getElementById(inputId);\n",
              "  inputElement.disabled = false;\n",
              "\n",
              "  const outputElement = document.getElementById(outputId);\n",
              "  outputElement.innerHTML = '';\n",
              "\n",
              "  const pickedPromise = new Promise((resolve) => {\n",
              "    inputElement.addEventListener('change', (e) => {\n",
              "      resolve(e.target.files);\n",
              "    });\n",
              "  });\n",
              "\n",
              "  const cancel = document.createElement('button');\n",
              "  inputElement.parentElement.appendChild(cancel);\n",
              "  cancel.textContent = 'Cancel upload';\n",
              "  const cancelPromise = new Promise((resolve) => {\n",
              "    cancel.onclick = () => {\n",
              "      resolve(null);\n",
              "    };\n",
              "  });\n",
              "\n",
              "  // Wait for the user to pick the files.\n",
              "  const files = yield {\n",
              "    promise: Promise.race([pickedPromise, cancelPromise]),\n",
              "    response: {\n",
              "      action: 'starting',\n",
              "    }\n",
              "  };\n",
              "\n",
              "  cancel.remove();\n",
              "\n",
              "  // Disable the input element since further picks are not allowed.\n",
              "  inputElement.disabled = true;\n",
              "\n",
              "  if (!files) {\n",
              "    return {\n",
              "      response: {\n",
              "        action: 'complete',\n",
              "      }\n",
              "    };\n",
              "  }\n",
              "\n",
              "  for (const file of files) {\n",
              "    const li = document.createElement('li');\n",
              "    li.append(span(file.name, {fontWeight: 'bold'}));\n",
              "    li.append(span(\n",
              "        `(${file.type || 'n/a'}) - ${file.size} bytes, ` +\n",
              "        `last modified: ${\n",
              "            file.lastModifiedDate ? file.lastModifiedDate.toLocaleDateString() :\n",
              "                                    'n/a'} - `));\n",
              "    const percent = span('0% done');\n",
              "    li.appendChild(percent);\n",
              "\n",
              "    outputElement.appendChild(li);\n",
              "\n",
              "    const fileDataPromise = new Promise((resolve) => {\n",
              "      const reader = new FileReader();\n",
              "      reader.onload = (e) => {\n",
              "        resolve(e.target.result);\n",
              "      };\n",
              "      reader.readAsArrayBuffer(file);\n",
              "    });\n",
              "    // Wait for the data to be ready.\n",
              "    let fileData = yield {\n",
              "      promise: fileDataPromise,\n",
              "      response: {\n",
              "        action: 'continue',\n",
              "      }\n",
              "    };\n",
              "\n",
              "    // Use a chunked sending to avoid message size limits. See b/62115660.\n",
              "    let position = 0;\n",
              "    do {\n",
              "      const length = Math.min(fileData.byteLength - position, MAX_PAYLOAD_SIZE);\n",
              "      const chunk = new Uint8Array(fileData, position, length);\n",
              "      position += length;\n",
              "\n",
              "      const base64 = btoa(String.fromCharCode.apply(null, chunk));\n",
              "      yield {\n",
              "        response: {\n",
              "          action: 'append',\n",
              "          file: file.name,\n",
              "          data: base64,\n",
              "        },\n",
              "      };\n",
              "\n",
              "      let percentDone = fileData.byteLength === 0 ?\n",
              "          100 :\n",
              "          Math.round((position / fileData.byteLength) * 100);\n",
              "      percent.textContent = `${percentDone}% done`;\n",
              "\n",
              "    } while (position < fileData.byteLength);\n",
              "  }\n",
              "\n",
              "  // All done.\n",
              "  yield {\n",
              "    response: {\n",
              "      action: 'complete',\n",
              "    }\n",
              "  };\n",
              "}\n",
              "\n",
              "scope.google = scope.google || {};\n",
              "scope.google.colab = scope.google.colab || {};\n",
              "scope.google.colab._files = {\n",
              "  _uploadFiles,\n",
              "  _uploadFilesContinue,\n",
              "};\n",
              "})(self);\n",
              "</script> "
            ]
          },
          "metadata": {}
        },
        {
          "output_type": "stream",
          "name": "stdout",
          "text": [
            "Saving Nashville_housing_data_2013_2016.csv to Nashville_housing_data_2013_2016.csv\n"
          ]
        }
      ]
    },
    {
      "cell_type": "markdown",
      "source": [
        "# 2. Load dataset"
      ],
      "metadata": {
        "id": "gJX14WZQX172"
      }
    },
    {
      "cell_type": "code",
      "source": [
        "df = pd.read_csv(file_path)"
      ],
      "metadata": {
        "id": "BOoJx5rXX398"
      },
      "execution_count": 3,
      "outputs": []
    },
    {
      "cell_type": "markdown",
      "source": [
        "# 3. Rename columns to remove spaces and special characters"
      ],
      "metadata": {
        "id": "wXbg48xxX9EG"
      }
    },
    {
      "cell_type": "code",
      "source": [
        "df.columns = df.columns.str.replace('[^A-Za-z0-9_]', '', regex=True)"
      ],
      "metadata": {
        "id": "56a57EngX-Sf"
      },
      "execution_count": 4,
      "outputs": []
    },
    {
      "cell_type": "markdown",
      "source": [
        "# 4. Create SQLite database in memory"
      ],
      "metadata": {
        "id": "LTiSSMn0YBZB"
      }
    },
    {
      "cell_type": "code",
      "source": [
        "conn = sqlite3.connect(':memory:')\n",
        "cursor = conn.cursor()"
      ],
      "metadata": {
        "id": "Xq5gKw3eYEe1"
      },
      "execution_count": 5,
      "outputs": []
    },
    {
      "cell_type": "markdown",
      "source": [
        "# 5. Save DataFrame to SQL database"
      ],
      "metadata": {
        "id": "cMNzfs6nYHu5"
      }
    },
    {
      "cell_type": "code",
      "source": [
        "df.to_sql('nashville_housing', conn, index=False, if_exists='replace')"
      ],
      "metadata": {
        "colab": {
          "base_uri": "https://localhost:8080/"
        },
        "id": "6RZayvXwYJzB",
        "outputId": "567652ac-b92e-462a-99ff-8a6e17bc05b5"
      },
      "execution_count": 6,
      "outputs": [
        {
          "output_type": "execute_result",
          "data": {
            "text/plain": [
              "56636"
            ]
          },
          "metadata": {},
          "execution_count": 6
        }
      ]
    },
    {
      "cell_type": "markdown",
      "source": [
        "# 6. Check first 5 rows"
      ],
      "metadata": {
        "id": "WvmdpUJxYMhF"
      }
    },
    {
      "cell_type": "code",
      "source": [
        "query = \"SELECT * FROM nashville_housing LIMIT 5;\"\n",
        "print(pd.read_sql(query, conn))"
      ],
      "metadata": {
        "colab": {
          "base_uri": "https://localhost:8080/"
        },
        "id": "Q3MKhofFYOPM",
        "outputId": "b99cd4f1-5d6c-4ba2-d48c-424024913c29"
      },
      "execution_count": 7,
      "outputs": [
        {
          "output_type": "stream",
          "name": "stdout",
          "text": [
            "   Unnamed01  Unnamed0          ParcelID            LandUse  \\\n",
            "0          0         0  105 03 0D 008.00  RESIDENTIAL CONDO   \n",
            "1          1         1   105 11 0 080.00      SINGLE FAMILY   \n",
            "2          2         2   118 03 0 130.00      SINGLE FAMILY   \n",
            "3          3         3   119 01 0 479.00      SINGLE FAMILY   \n",
            "4          4         4   119 05 0 186.00      SINGLE FAMILY   \n",
            "\n",
            "     PropertyAddress SuiteCondo PropertyCity    SaleDate  SalePrice  \\\n",
            "0    1208  3RD AVE S          8    NASHVILLE  2013-01-24     132000   \n",
            "1   1802  STEWART PL       None    NASHVILLE  2013-01-11     191500   \n",
            "2  2761  ROSEDALE PL       None    NASHVILLE  2013-01-18     202000   \n",
            "3  224  PEACHTREE ST       None    NASHVILLE  2013-01-18      32000   \n",
            "4      316  LUTIE ST       None    NASHVILLE  2013-01-23     102000   \n",
            "\n",
            "     LegalReference  ... BuildingValue TotalValue FinishedArea FoundationType  \\\n",
            "0  20130128-0008725  ...           NaN        NaN          NaN           None   \n",
            "1  20130118-0006337  ...      134400.0   168300.0   1149.00000        PT BSMT   \n",
            "2  20130124-0008033  ...      157800.0   191800.0   2090.82495           SLAB   \n",
            "3  20130128-0008863  ...      243700.0   268700.0   2145.60001      FULL BSMT   \n",
            "4  20130131-0009929  ...      138100.0   164800.0   1969.00000          CRAWL   \n",
            "\n",
            "  YearBuilt ExteriorWall  Grade Bedrooms  FullBath HalfBath  \n",
            "0       NaN         None   None      NaN       NaN      NaN  \n",
            "1    1941.0        BRICK   C         2.0       1.0      0.0  \n",
            "2    2000.0  BRICK/FRAME   C         3.0       2.0      1.0  \n",
            "3    1948.0  BRICK/FRAME   B         4.0       2.0      0.0  \n",
            "4    1910.0        FRAME   C         2.0       1.0      0.0  \n",
            "\n",
            "[5 rows x 31 columns]\n"
          ]
        }
      ]
    },
    {
      "cell_type": "markdown",
      "source": [
        "# 7. Remove duplicate rows"
      ],
      "metadata": {
        "id": "JUhz6M3KYRUu"
      }
    },
    {
      "cell_type": "code",
      "source": [
        "query = \"\"\"\n",
        "DELETE FROM nashville_housing\n",
        "WHERE rowid NOT IN (\n",
        "    SELECT MIN(rowid) FROM nashville_housing GROUP BY ParcelID, SaleDate, SalePrice\n",
        ");\n",
        "\"\"\"\n",
        "cursor.execute(query)\n",
        "conn.commit()\n"
      ],
      "metadata": {
        "id": "bzGvvyxrYU-d"
      },
      "execution_count": 8,
      "outputs": []
    },
    {
      "cell_type": "markdown",
      "source": [
        "# 8. Fill NULL values"
      ],
      "metadata": {
        "id": "oMhAsW4tYX0f"
      }
    },
    {
      "cell_type": "code",
      "source": [
        "query = \"\"\"\n",
        "UPDATE nashville_housing\n",
        "SET PropertyCity = COALESCE(PropertyCity, 'Unknown');\n",
        "\"\"\"\n",
        "cursor.execute(query)\n",
        "conn.commit()"
      ],
      "metadata": {
        "id": "Gae4_wZsYaa7"
      },
      "execution_count": 9,
      "outputs": []
    },
    {
      "cell_type": "markdown",
      "source": [
        "# 9. Standardize date format (convert SaleDate to YYYY-MM-DD)"
      ],
      "metadata": {
        "id": "6hCRD4EmYc5V"
      }
    },
    {
      "cell_type": "code",
      "source": [
        "query = \"\"\"\n",
        "UPDATE nashville_housing\n",
        "SET SaleDate = substr(SaleDate, 7, 4) || '-' || substr(SaleDate, 1, 2) || '-' || substr(SaleDate, 4, 2);\n",
        "\"\"\"\n",
        "cursor.execute(query)\n",
        "conn.commit()"
      ],
      "metadata": {
        "id": "MlMSS0RmYfrj"
      },
      "execution_count": 10,
      "outputs": []
    },
    {
      "cell_type": "markdown",
      "source": [
        "# 10. Check cleaned data"
      ],
      "metadata": {
        "id": "Qnj8AqLmYi2x"
      }
    },
    {
      "cell_type": "code",
      "source": [
        "query = \"SELECT * FROM nashville_housing;\"\n",
        "cleaned_df = pd.read_sql(query, conn)\n",
        "print(cleaned_df.head())"
      ],
      "metadata": {
        "colab": {
          "base_uri": "https://localhost:8080/"
        },
        "id": "vK05C3ISYmCf",
        "outputId": "f4b46b98-ebb0-4b93-feef-3793fc04d7d8"
      },
      "execution_count": 11,
      "outputs": [
        {
          "output_type": "stream",
          "name": "stdout",
          "text": [
            "   Unnamed01  Unnamed0          ParcelID            LandUse  \\\n",
            "0          0         0  105 03 0D 008.00  RESIDENTIAL CONDO   \n",
            "1          1         1   105 11 0 080.00      SINGLE FAMILY   \n",
            "2          2         2   118 03 0 130.00      SINGLE FAMILY   \n",
            "3          3         3   119 01 0 479.00      SINGLE FAMILY   \n",
            "4          4         4   119 05 0 186.00      SINGLE FAMILY   \n",
            "\n",
            "     PropertyAddress SuiteCondo PropertyCity    SaleDate  SalePrice  \\\n",
            "0    1208  3RD AVE S          8    NASHVILLE  1-24-20-3-     132000   \n",
            "1   1802  STEWART PL       None    NASHVILLE  1-11-20-3-     191500   \n",
            "2  2761  ROSEDALE PL       None    NASHVILLE  1-18-20-3-     202000   \n",
            "3  224  PEACHTREE ST       None    NASHVILLE  1-18-20-3-      32000   \n",
            "4      316  LUTIE ST       None    NASHVILLE  1-23-20-3-     102000   \n",
            "\n",
            "     LegalReference  ... BuildingValue TotalValue FinishedArea FoundationType  \\\n",
            "0  20130128-0008725  ...           NaN        NaN          NaN           None   \n",
            "1  20130118-0006337  ...      134400.0   168300.0   1149.00000        PT BSMT   \n",
            "2  20130124-0008033  ...      157800.0   191800.0   2090.82495           SLAB   \n",
            "3  20130128-0008863  ...      243700.0   268700.0   2145.60001      FULL BSMT   \n",
            "4  20130131-0009929  ...      138100.0   164800.0   1969.00000          CRAWL   \n",
            "\n",
            "  YearBuilt ExteriorWall  Grade Bedrooms  FullBath HalfBath  \n",
            "0       NaN         None   None      NaN       NaN      NaN  \n",
            "1    1941.0        BRICK   C         2.0       1.0      0.0  \n",
            "2    2000.0  BRICK/FRAME   C         3.0       2.0      1.0  \n",
            "3    1948.0  BRICK/FRAME   B         4.0       2.0      0.0  \n",
            "4    1910.0        FRAME   C         2.0       1.0      0.0  \n",
            "\n",
            "[5 rows x 31 columns]\n"
          ]
        }
      ]
    },
    {
      "cell_type": "markdown",
      "source": [
        "# 11. Save cleaned data to CSV"
      ],
      "metadata": {
        "id": "K496xSowYou3"
      }
    },
    {
      "cell_type": "code",
      "source": [
        "cleaned_file_path = 'Nashville_housing_cleaned.csv'\n",
        "cleaned_df.to_csv(cleaned_file_path, index=False)\n",
        "print(f\"Cleaned dataset saved to {cleaned_file_path}\")"
      ],
      "metadata": {
        "colab": {
          "base_uri": "https://localhost:8080/"
        },
        "id": "t1dlx_CKYq9f",
        "outputId": "df4c6932-7213-4d43-9d87-26c9436c7772"
      },
      "execution_count": 12,
      "outputs": [
        {
          "output_type": "stream",
          "name": "stdout",
          "text": [
            "Cleaned dataset saved to Nashville_housing_cleaned.csv\n"
          ]
        }
      ]
    },
    {
      "cell_type": "markdown",
      "source": [
        "# 12. Download cleaned data"
      ],
      "metadata": {
        "id": "fKnNcBq-Yv7i"
      }
    },
    {
      "cell_type": "code",
      "source": [
        "files.download(cleaned_file_path)"
      ],
      "metadata": {
        "colab": {
          "base_uri": "https://localhost:8080/",
          "height": 17
        },
        "id": "wVifziNYYyUp",
        "outputId": "1e49ce1d-2626-4495-dc49-598a522ec9a6"
      },
      "execution_count": 13,
      "outputs": [
        {
          "output_type": "display_data",
          "data": {
            "text/plain": [
              "<IPython.core.display.Javascript object>"
            ],
            "application/javascript": [
              "\n",
              "    async function download(id, filename, size) {\n",
              "      if (!google.colab.kernel.accessAllowed) {\n",
              "        return;\n",
              "      }\n",
              "      const div = document.createElement('div');\n",
              "      const label = document.createElement('label');\n",
              "      label.textContent = `Downloading \"${filename}\": `;\n",
              "      div.appendChild(label);\n",
              "      const progress = document.createElement('progress');\n",
              "      progress.max = size;\n",
              "      div.appendChild(progress);\n",
              "      document.body.appendChild(div);\n",
              "\n",
              "      const buffers = [];\n",
              "      let downloaded = 0;\n",
              "\n",
              "      const channel = await google.colab.kernel.comms.open(id);\n",
              "      // Send a message to notify the kernel that we're ready.\n",
              "      channel.send({})\n",
              "\n",
              "      for await (const message of channel.messages) {\n",
              "        // Send a message to notify the kernel that we're ready.\n",
              "        channel.send({})\n",
              "        if (message.buffers) {\n",
              "          for (const buffer of message.buffers) {\n",
              "            buffers.push(buffer);\n",
              "            downloaded += buffer.byteLength;\n",
              "            progress.value = downloaded;\n",
              "          }\n",
              "        }\n",
              "      }\n",
              "      const blob = new Blob(buffers, {type: 'application/binary'});\n",
              "      const a = document.createElement('a');\n",
              "      a.href = window.URL.createObjectURL(blob);\n",
              "      a.download = filename;\n",
              "      div.appendChild(a);\n",
              "      a.click();\n",
              "      div.remove();\n",
              "    }\n",
              "  "
            ]
          },
          "metadata": {}
        },
        {
          "output_type": "display_data",
          "data": {
            "text/plain": [
              "<IPython.core.display.Javascript object>"
            ],
            "application/javascript": [
              "download(\"download_881c32a9-8bac-4b14-8cc1-1bd0ef024eba\", \"Nashville_housing_cleaned.csv\", 11677474)"
            ]
          },
          "metadata": {}
        }
      ]
    },
    {
      "cell_type": "markdown",
      "source": [
        "# Close the database connection"
      ],
      "metadata": {
        "id": "6gkEsmDoY6Fu"
      }
    },
    {
      "cell_type": "code",
      "source": [
        "conn.close()"
      ],
      "metadata": {
        "id": "Lx2feXAvY8xr"
      },
      "execution_count": 14,
      "outputs": []
    }
  ]
}